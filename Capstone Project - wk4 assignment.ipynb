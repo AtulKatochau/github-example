{
    "cells": [
        {
            "cell_type": "markdown",
            "metadata": {
                "collapsed": true
            },
            "source": "### A description of the problem and a discussion of the background.\nProblem : To find a high ranked university in terms of courses offered and job placement comparing Toronto City and New york city.\nIt is a common problem faced by many students to find, compare and choose the university which offer quality education and also helps in finding a job related to the course.\n\n#### A description of the data and how it will be used to solve the problem.\nI need Foursquare location data in Toronto city and New york city (may be from wikipaedia website). I need to sort the data as per the rank of the universities. I also need to see if there are business centres in these cities.\n"
        }
    ],
    "metadata": {
        "kernelspec": {
            "display_name": "Python 3.6",
            "language": "python",
            "name": "python3"
        },
        "language_info": {
            "codemirror_mode": {
                "name": "ipython",
                "version": 3
            },
            "file_extension": ".py",
            "mimetype": "text/x-python",
            "name": "python",
            "nbconvert_exporter": "python",
            "pygments_lexer": "ipython3",
            "version": "3.6.8"
        }
    },
    "nbformat": 4,
    "nbformat_minor": 1
}